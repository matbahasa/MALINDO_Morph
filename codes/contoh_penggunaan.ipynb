{
 "cells": [
  {
   "cell_type": "markdown",
   "metadata": {},
   "source": [
    "# Contoh penggunaan `morph_analyzer.py`\n",
    "\n",
    "Pakej yang diperlukan: `pyspellchecker` (Dapatkan di https://pypi.org/project/pyspellchecker/ jika tidak termasuk dalam sistem anda.)\n",
    "\n",
    "(Required package: `pyspellchecker` (Download from https://pypi.org/project/pyspellchecker/ if your system does not have it.))"
   ]
  },
  {
   "cell_type": "code",
   "execution_count": 1,
   "metadata": {},
   "outputs": [],
   "source": [
    "import pickle\n",
    "with open(\"rootlist.pkl\", \"rb\") as f:\n",
    "    rootlist = pickle.load(f)\n",
    "import morph_analyzer as ma"
   ]
  },
  {
   "cell_type": "markdown",
   "metadata": {},
   "source": [
    "## Tanpa kamus MALINDO Morph\n",
    "\n",
    "(Without the MALINDO Morph dictionary)"
   ]
  },
  {
   "cell_type": "code",
   "execution_count": 2,
   "metadata": {},
   "outputs": [
    {
     "data": {
      "text/plain": [
       "{('kait', 'keberkaitananlah', '0', '-lah', 'ber--an+ke--an', '0'),\n",
       " ('kait', 'keberkaitananlah', 'ber-', '-an+-lah', 'ke--an', '0'),\n",
       " ('kait', 'keberkaitananlah', 'ke-', '-an+-lah', 'ber--an', '0')}"
      ]
     },
     "execution_count": 2,
     "metadata": {},
     "output_type": "execute_result"
    }
   ],
   "source": [
    "ma.morph(\"keberkaitananlah\", rootlist)"
   ]
  },
  {
   "cell_type": "markdown",
   "metadata": {},
   "source": [
    "### Parameter `Indo`\n",
    "\n",
    "Parameter `Indo` mengaktifkan awalan _N-_ (cth. _N-_ + _kopi_ = _ngopi_).\n",
    "\n",
    "(The `Indo` parameter activates the prefix _N-_ (e.g. _N-_ + _kopi_ = _ngopi_).)"
   ]
  },
  {
   "cell_type": "code",
   "execution_count": 3,
   "metadata": {},
   "outputs": [
    {
     "data": {
      "text/plain": [
       "{('nyampa', 'nyampai', '0', '-i', '0', '0')}"
      ]
     },
     "execution_count": 3,
     "metadata": {},
     "output_type": "execute_result"
    }
   ],
   "source": [
    "ma.morph(\"nyampai\", rootlist)"
   ]
  },
  {
   "cell_type": "code",
   "execution_count": 4,
   "metadata": {},
   "outputs": [
    {
     "data": {
      "text/plain": [
       "{('campa', 'nyampai', 'N-', '-i', '0', '0'),\n",
       " ('sampai', 'nyampai', 'N-', '0', '0', '0')}"
      ]
     },
     "execution_count": 4,
     "metadata": {},
     "output_type": "execute_result"
    }
   ],
   "source": [
    "ma.morph(\"nyampai\", rootlist, Indo=True)"
   ]
  },
  {
   "cell_type": "markdown",
   "metadata": {},
   "source": [
    "### Parameter `n`\n",
    "\n",
    "Parameter `n` mengawal jumlah calon yang dihasilkan.  Nilai lalainya ialah 5.\n",
    "\n",
    "(The `n` parameter controls the number of the candidates to be produced.  The default value is 5.)"
   ]
  },
  {
   "cell_type": "code",
   "execution_count": 5,
   "metadata": {},
   "outputs": [
    {
     "data": {
      "text/plain": [
       "{('bibkah', 'mengebibkah', 'ke-+meN-', '0', '0', '0'),\n",
       " ('ebib', 'mengebibkah', 'meN-', '-kah', '0', '0'),\n",
       " ('ebibkah', 'mengebibkah', 'meN-', '0', '0', '0'),\n",
       " ('kebib', 'mengebibkah', 'meN-', '-kah', '0', '0'),\n",
       " ('ngebib', 'mengebibkah', 'meN-', '-kah', '0', '0')}"
      ]
     },
     "execution_count": 5,
     "metadata": {},
     "output_type": "execute_result"
    }
   ],
   "source": [
    "ma.morph(\"mengebibkah\", rootlist)"
   ]
  },
  {
   "cell_type": "code",
   "execution_count": 6,
   "metadata": {},
   "outputs": [
    {
     "data": {
      "text/plain": [
       "{('bib', 'mengebibkah', 'meN-', '-kah', '0', '0'),\n",
       " ('bibkah', 'mengebibkah', 'ke-+meN-', '0', '0', '0'),\n",
       " ('ebib', 'mengebibkah', 'meN-', '-kah', '0', '0'),\n",
       " ('ebibkah', 'mengebibkah', 'meN-', '0', '0', '0'),\n",
       " ('kebib', 'mengebibkah', 'meN-', '-kah', '0', '0'),\n",
       " ('kebibkah', 'mengebibkah', 'meN-', '0', '0', '0'),\n",
       " ('mengebib', 'mengebibkah', '0', '-kah', '0', '0'),\n",
       " ('mengebibkah', 'mengebibkah', '0', '0', '0', '0'),\n",
       " ('ngebib', 'mengebibkah', 'meN-', '-kah', '0', '0'),\n",
       " ('ngebibkah', 'mengebibkah', 'meN-', '0', '0', '0')}"
      ]
     },
     "execution_count": 6,
     "metadata": {},
     "output_type": "execute_result"
    }
   ],
   "source": [
    "ma.morph(\"mengebibkah\", rootlist, n=15)"
   ]
  },
  {
   "cell_type": "markdown",
   "metadata": {},
   "source": [
    "## Bersama dengan kamus MALINDO Morph\n",
    "\n",
    "Walaupun `morph_analzser.py` boleh digunakan secara sendirian, adalah lebih realistik untuk menggunakannya bersama dengan kamus MALINDO Morph yang (kebanyakan) analisis morfologinya sudah diperiksa oleh manusia.  Dalam contoh kod di bawah, `morph_analyzer.py` digunakan hanya apabila perkataan yang ingin dianalisis tidak termasuk dalam kamus MALINDO Morph.\n",
    "\n",
    "(With the MALINDO Morph dictionary  \n",
    "Although `morph_analyzer.py` can be used by itself, it is more realistic to use it with the MALINDO Morph dictionary in which most of the morphological analyses have been examined manually.  In the code below, `morph_analyzer.py` is used only when the word to be analysed is not found in the MALINDO Morph dictionary.)"
   ]
  },
  {
   "cell_type": "code",
   "execution_count": 7,
   "metadata": {},
   "outputs": [],
   "source": [
    "# Buat kamus daripada MALINDO Morph\n",
    "with open(\"malindo_dic_20200917.tsv\", \"r\", encoding=\"utf-8\") as f: #Gunakan versi terkini MALINDO Moprh\n",
    "    katakata = []\n",
    "    for l in f:\n",
    "        items = l.strip().split(\"\\t\")\n",
    "        if not items[0].startswith(\"ex-\"): #bahagian yg sudah diperiksa manusia sahaja\n",
    "            katakata.append(tuple(items[1:7])) #tanpa ID, sumber, dasar, lema \n",
    "\n",
    "kamus = dict()\n",
    "for kata in katakata:\n",
    "    surface = kata[1]\n",
    "    if not surface in kamus.keys():\n",
    "        kamus[surface] = []\n",
    "    kamus[surface].append(kata)"
   ]
  },
  {
   "cell_type": "code",
   "execution_count": 8,
   "metadata": {},
   "outputs": [],
   "source": [
    "def analisis(w, Indo=False, n=5):\n",
    "    try:\n",
    "        return kamus[w][:n]\n",
    "    except:\n",
    "        return list(ma.morph(w, rootlist, Indo, n))"
   ]
  },
  {
   "cell_type": "markdown",
   "metadata": {},
   "source": [
    "### Perkataan yang ada dalam kamus MALINDO Morph\n",
    "\n",
    "(Words available in the MALINDO Morph dictionary)"
   ]
  },
  {
   "cell_type": "code",
   "execution_count": 9,
   "metadata": {},
   "outputs": [
    {
     "data": {
      "text/plain": [
       "[('pos', 'mengeposkan', 'meN-', '-kan', '0', '0')]"
      ]
     },
     "execution_count": 9,
     "metadata": {},
     "output_type": "execute_result"
    }
   ],
   "source": [
    "analisis(\"mengeposkan\")"
   ]
  },
  {
   "cell_type": "code",
   "execution_count": 10,
   "metadata": {},
   "outputs": [
    {
     "data": {
      "text/plain": [
       "[('mereka', 'mereka', '0', '0', '0', '0'),\n",
       " ('reka', 'mereka', 'meN-', '0', '0', '0')]"
      ]
     },
     "execution_count": 10,
     "metadata": {},
     "output_type": "execute_result"
    }
   ],
   "source": [
    "analisis(\"mereka\")"
   ]
  },
  {
   "cell_type": "code",
   "execution_count": 11,
   "metadata": {},
   "outputs": [
    {
     "data": {
      "text/plain": [
       "[('mereka', 'mereka', '0', '0', '0', '0')]"
      ]
     },
     "execution_count": 11,
     "metadata": {},
     "output_type": "execute_result"
    }
   ],
   "source": [
    "analisis(\"mereka\", n=1)"
   ]
  },
  {
   "cell_type": "markdown",
   "metadata": {},
   "source": [
    "### Perkataan yang tidak ada dalam kamus MALINDO Morph\n",
    "\n",
    "(Words unavailable in the MALINDO Morph dictionary)"
   ]
  },
  {
   "cell_type": "code",
   "execution_count": 12,
   "metadata": {},
   "outputs": [
    {
     "data": {
      "text/plain": [
       "[('kepob', 'mengepobkan', 'meN-', '-kan', '0', '0'),\n",
       " ('epobk', 'mengepobkan', 'meN-', '-an', '0', '0'),\n",
       " ('epob', 'mengepobkan', 'meN-', '-kan', '0', '0'),\n",
       " ('kepobk', 'mengepobkan', 'meN-', '-an', '0', '0'),\n",
       " ('pobkan', 'mengepobkan', 'ke-+meN-', '0', '0', '0')]"
      ]
     },
     "execution_count": 12,
     "metadata": {},
     "output_type": "execute_result"
    }
   ],
   "source": [
    "analisis(\"mengepobkan\")"
   ]
  },
  {
   "cell_type": "code",
   "execution_count": 13,
   "metadata": {},
   "outputs": [
    {
     "data": {
      "text/plain": [
       "[('kepob', 'mengepobkan', 'meN-', '-kan', '0', '0'),\n",
       " ('epobk', 'mengepobkan', 'meN-', '-an', '0', '0'),\n",
       " ('epob', 'mengepobkan', 'meN-', '-kan', '0', '0')]"
      ]
     },
     "execution_count": 13,
     "metadata": {},
     "output_type": "execute_result"
    }
   ],
   "source": [
    "analisis(\"mengepobkan\", n=3)"
   ]
  }
 ],
 "metadata": {
  "kernelspec": {
   "display_name": "Python 3",
   "language": "python",
   "name": "python3"
  },
  "language_info": {
   "codemirror_mode": {
    "name": "ipython",
    "version": 3
   },
   "file_extension": ".py",
   "mimetype": "text/x-python",
   "name": "python",
   "nbconvert_exporter": "python",
   "pygments_lexer": "ipython3",
   "version": "3.7.7"
  }
 },
 "nbformat": 4,
 "nbformat_minor": 4
}
